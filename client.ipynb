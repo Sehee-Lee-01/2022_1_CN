{
  "nbformat": 4,
  "nbformat_minor": 0,
  "metadata": {
    "colab": {
      "name": "client.ipynb",
      "provenance": [],
      "collapsed_sections": [],
      "authorship_tag": "ABX9TyPCN6+tusHtbNOCFWOBUjxg",
      "include_colab_link": true
    },
    "kernelspec": {
      "name": "python3",
      "display_name": "Python 3"
    },
    "language_info": {
      "name": "python"
    }
  },
  "cells": [
    {
      "cell_type": "markdown",
      "metadata": {
        "id": "view-in-github",
        "colab_type": "text"
      },
      "source": [
        "<a href=\"https://colab.research.google.com/github/Sehee-Lee-01/2022_1_CN/blob/client/client.ipynb\" target=\"_parent\"><img src=\"https://colab.research.google.com/assets/colab-badge.svg\" alt=\"Open In Colab\"/></a>"
      ]
    },
    {
      "cell_type": "code",
      "execution_count": 1,
      "metadata": {
        "colab": {
          "base_uri": "https://localhost:8080/",
          "height": 343
        },
        "id": "FCpsxSZtH5fL",
        "outputId": "4204fcb7-82de-4a72-b3e5-8e8bee8fd8ad"
      },
      "outputs": [
        {
          "output_type": "error",
          "ename": "TimeoutError",
          "evalue": "ignored",
          "traceback": [
            "\u001b[0;31m---------------------------------------------------------------------------\u001b[0m",
            "\u001b[0;31mTimeoutError\u001b[0m                              Traceback (most recent call last)",
            "\u001b[0;32m<ipython-input-1-2cc82318390d>\u001b[0m in \u001b[0;36m<module>\u001b[0;34m()\u001b[0m\n\u001b[1;32m     23\u001b[0m \u001b[0mrequest_message\u001b[0m \u001b[0;34m+=\u001b[0m \u001b[0;34m'User-Agent: Mozilla/5.0 (Windows NT 10.0: Win64: x64) AppleWebKit/537.36 (KHTML. like Gecko) Chrome/81.0.4044.138 Sarfari/537.36\\r\\n'\u001b[0m\u001b[0;34m\u001b[0m\u001b[0;34m\u001b[0m\u001b[0m\n\u001b[1;32m     24\u001b[0m \u001b[0mrequest_message\u001b[0m \u001b[0;34m+=\u001b[0m \u001b[0;34m'Connection: Keep-Alive\\n\\n'\u001b[0m\u001b[0;34m\u001b[0m\u001b[0;34m\u001b[0m\u001b[0m\n\u001b[0;32m---> 25\u001b[0;31m \u001b[0mcreate_socket_and_send_message\u001b[0m\u001b[0;34m(\u001b[0m\u001b[0mrequest_message\u001b[0m\u001b[0;34m)\u001b[0m\u001b[0;34m\u001b[0m\u001b[0;34m\u001b[0m\u001b[0m\n\u001b[0m",
            "\u001b[0;32m<ipython-input-1-2cc82318390d>\u001b[0m in \u001b[0;36mcreate_socket_and_send_message\u001b[0;34m(request_message)\u001b[0m\n\u001b[1;32m      9\u001b[0m   \u001b[0;31m# 클라이언트 소켓 만들기\u001b[0m\u001b[0;34m\u001b[0m\u001b[0;34m\u001b[0m\u001b[0;34m\u001b[0m\u001b[0m\n\u001b[1;32m     10\u001b[0m   \u001b[0mclienntSocket\u001b[0m \u001b[0;34m=\u001b[0m \u001b[0msocket\u001b[0m\u001b[0;34m(\u001b[0m\u001b[0mAF_INET\u001b[0m\u001b[0;34m,\u001b[0m \u001b[0mSOCK_STREAM\u001b[0m\u001b[0;34m)\u001b[0m\u001b[0;34m\u001b[0m\u001b[0;34m\u001b[0m\u001b[0m\n\u001b[0;32m---> 11\u001b[0;31m   \u001b[0mclienntSocket\u001b[0m\u001b[0;34m.\u001b[0m\u001b[0mconnect\u001b[0m\u001b[0;34m(\u001b[0m\u001b[0;34m(\u001b[0m\u001b[0mserverName\u001b[0m\u001b[0;34m,\u001b[0m \u001b[0mserverPort\u001b[0m\u001b[0;34m)\u001b[0m\u001b[0;34m)\u001b[0m\u001b[0;34m\u001b[0m\u001b[0;34m\u001b[0m\u001b[0m\n\u001b[0m\u001b[1;32m     12\u001b[0m   \u001b[0mclienntSocket\u001b[0m\u001b[0;34m.\u001b[0m\u001b[0msend\u001b[0m\u001b[0;34m(\u001b[0m\u001b[0mrequest_message\u001b[0m\u001b[0;34m.\u001b[0m\u001b[0mencode\u001b[0m\u001b[0;34m(\u001b[0m\u001b[0;34m'utf-8'\u001b[0m\u001b[0;34m)\u001b[0m\u001b[0;34m)\u001b[0m\u001b[0;34m\u001b[0m\u001b[0;34m\u001b[0m\u001b[0m\n\u001b[1;32m     13\u001b[0m \u001b[0;34m\u001b[0m\u001b[0m\n",
            "\u001b[0;31mTimeoutError\u001b[0m: [Errno 110] Connection timed out"
          ]
        }
      ],
      "source": [
        "from socket import *\n",
        "\n",
        "# Colab에서 실해시는 Sever는 이더넷 연결, Colab은 Client로 연결\n",
        "serverName = '219.254.56.176'\n",
        "#serverName = '127.0.0.1'\n",
        "serverPort = 80\n",
        "\n",
        "def create_socket_and_send_message(request_message):\n",
        "  # 클라이언트 소켓 만들기\n",
        "  clienntSocket = socket(AF_INET, SOCK_STREAM)\n",
        "  clienntSocket.connect((serverName, serverPort))\n",
        "  clienntSocket.send(request_message.encode('utf-8'))\n",
        "\n",
        "  # 응답확인\n",
        "  receive_message = clienntSocket.recv(65535)\n",
        "  print(request_message.decode())\n",
        "\n",
        "  clienntSocket.close()\n",
        "\n",
        "request_message = 'GET /index.html HTTP/1.1\\r\\n'\n",
        "request_message += 'Host: 219.254.56.176:12000\\r\\n'\n",
        "#request_message += 'Host: 127.0.0.1:12000\\r\\n'\n",
        "request_message += 'User-Agent: Mozilla/5.0 (Windows NT 10.0: Win64: x64) AppleWebKit/537.36 (KHTML. like Gecko) Chrome/81.0.4044.138 Sarfari/537.36\\r\\n'\n",
        "request_message += 'Connection: Keep-Alive\\n\\n'\n",
        "create_socket_and_send_message(request_message)"
      ]
    }
  ]
}